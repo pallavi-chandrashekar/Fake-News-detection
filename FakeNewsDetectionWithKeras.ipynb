{
  "nbformat": 4,
  "nbformat_minor": 0,
  "metadata": {
    "kernelspec": {
      "display_name": "Python 3",
      "language": "python",
      "name": "python3"
    },
    "language_info": {
      "codemirror_mode": {
        "name": "ipython",
        "version": 3
      },
      "file_extension": ".py",
      "mimetype": "text/x-python",
      "name": "python",
      "nbconvert_exporter": "python",
      "pygments_lexer": "ipython3",
      "version": "3.6.4"
    },
    "colab": {
      "name": "FakeNewsDetectionWithKeras.ipynb",
      "provenance": [],
      "collapsed_sections": []
    }
  },
  "cells": [
    {
      "cell_type": "code",
      "metadata": {
        "_cell_guid": "b1076dfc-b9ad-4769-8c92-a6c4dae69d19",
        "_uuid": "8f2839f25d086af736a60e9eeb907d3b93b6e0e5",
        "id": "nmfz9sIbPjBT",
        "colab_type": "code",
        "colab": {}
      },
      "source": [
        "# This Python 3 environment comes with many helpful analytics libraries installed\n",
        "# It is defined by the kaggle/python docker image: https://github.com/kaggle/docker-python\n",
        "# For example, here's several helpful packages to load in \n",
        "\n",
        "import numpy as np # linear algebra\n",
        "import pandas as pd # data processing, CSV file I/O (e.g. pd.read_csv)\n",
        "\n",
        "# Input data files are available in the \"../input/\" directory.\n",
        "# For example, running this (by clicking run or pressing Shift+Enter) \n",
        "# will list the files in the input directory\n",
        "\n",
        "import os\n",
        "# print(os.listdir(\"../input\"))\n",
        "\n",
        "# Any results you write to the current directory are saved as output.\n",
        "\n",
        "import matplotlib.pyplot as plt"
      ],
      "execution_count": 0,
      "outputs": []
    },
    {
      "cell_type": "code",
      "metadata": {
        "_cell_guid": "79c7e3d0-c299-4dcb-8224-4455121ee9b0",
        "_uuid": "d629ff2d2480ee46fbb7e2d37f6b5fab8052498a",
        "id": "Bm1SXNMDPjBj",
        "colab_type": "code",
        "colab": {
          "base_uri": "https://localhost:8080/",
          "height": 111
        },
        "outputId": "3691eb0f-6049-4179-dea6-e8b9d1c1af79"
      },
      "source": [
        "#Read Data\n",
        "data = pd.read_csv('data.csv')\n",
        "\n",
        "#Randomly Smaple data, ratio is 100%\n",
        "data = data.sample(frac = 1)\n",
        "\n",
        "#Show Data\n",
        "data.head()\n",
        "for i in range(0,data.shape[0]-1):\n",
        "    if(data.Body.isnull()[i]):\n",
        "        data.Body[i] = data.Headline[i]"
      ],
      "execution_count": 2,
      "outputs": [
        {
          "output_type": "stream",
          "text": [
            "/usr/local/lib/python3.6/dist-packages/ipykernel_launcher.py:10: SettingWithCopyWarning: \n",
            "A value is trying to be set on a copy of a slice from a DataFrame\n",
            "\n",
            "See the caveats in the documentation: http://pandas.pydata.org/pandas-docs/stable/user_guide/indexing.html#returning-a-view-versus-a-copy\n",
            "  # Remove the CWD from sys.path while we load stuff.\n"
          ],
          "name": "stderr"
        }
      ]
    },
    {
      "cell_type": "code",
      "metadata": {
        "id": "D0Dujki2PjBt",
        "colab_type": "code",
        "colab": {
          "base_uri": "https://localhost:8080/",
          "height": 206
        },
        "outputId": "a9364e95-373f-4089-d3d2-9f058c750298"
      },
      "source": [
        "# (Create a new column called Length that record every Headline length)\n",
        "data['Length'] = [len(headline) for headline in data['Headline']]\n",
        "data.head()"
      ],
      "execution_count": 3,
      "outputs": [
        {
          "output_type": "execute_result",
          "data": {
            "text/html": [
              "<div>\n",
              "<style scoped>\n",
              "    .dataframe tbody tr th:only-of-type {\n",
              "        vertical-align: middle;\n",
              "    }\n",
              "\n",
              "    .dataframe tbody tr th {\n",
              "        vertical-align: top;\n",
              "    }\n",
              "\n",
              "    .dataframe thead th {\n",
              "        text-align: right;\n",
              "    }\n",
              "</style>\n",
              "<table border=\"1\" class=\"dataframe\">\n",
              "  <thead>\n",
              "    <tr style=\"text-align: right;\">\n",
              "      <th></th>\n",
              "      <th>URLs</th>\n",
              "      <th>Headline</th>\n",
              "      <th>Body</th>\n",
              "      <th>Label</th>\n",
              "      <th>Length</th>\n",
              "    </tr>\n",
              "  </thead>\n",
              "  <tbody>\n",
              "    <tr>\n",
              "      <th>3739</th>\n",
              "      <td>http://beforeitsnews.com/sports/2017/09/jets-v...</td>\n",
              "      <td>Jets vs. Jaguars Week 4 Preview</td>\n",
              "      <td>Jets vs. Jaguars Week 4 Preview\\n(Before It's ...</td>\n",
              "      <td>0</td>\n",
              "      <td>31</td>\n",
              "    </tr>\n",
              "    <tr>\n",
              "      <th>2326</th>\n",
              "      <td>https://www.reuters.com/article/us-usa-trump-d...</td>\n",
              "      <td>Trump nominates White House aide for homeland ...</td>\n",
              "      <td>White House Chief of Staff John Kelly (R) walk...</td>\n",
              "      <td>1</td>\n",
              "      <td>59</td>\n",
              "    </tr>\n",
              "    <tr>\n",
              "      <th>2003</th>\n",
              "      <td>https://www.activistpost.com/2017/09/saudi-ara...</td>\n",
              "      <td>Accused of War Crimes, Saudi Arabia Investigat...</td>\n",
              "      <td>By Carey Wedler\\nAmid international calls for ...</td>\n",
              "      <td>0</td>\n",
              "      <td>82</td>\n",
              "    </tr>\n",
              "    <tr>\n",
              "      <th>491</th>\n",
              "      <td>http://beforeitsnews.com/u-s-politics/2017/10/...</td>\n",
              "      <td>SNL: Michael Che Calls Trump “You B*tch” Over ...</td>\n",
              "      <td>Vietnam Is in Great Danger, You Must Publish a...</td>\n",
              "      <td>0</td>\n",
              "      <td>66</td>\n",
              "    </tr>\n",
              "    <tr>\n",
              "      <th>1207</th>\n",
              "      <td>http://beforeitsnews.com/u-s-politics/2017/10/...</td>\n",
              "      <td>Teen Suspended For Sitting During Pledge Of Al...</td>\n",
              "      <td>A Potato Battery Can Light up a Room for Over ...</td>\n",
              "      <td>0</td>\n",
              "      <td>54</td>\n",
              "    </tr>\n",
              "  </tbody>\n",
              "</table>\n",
              "</div>"
            ],
            "text/plain": [
              "                                                   URLs  ... Length\n",
              "3739  http://beforeitsnews.com/sports/2017/09/jets-v...  ...     31\n",
              "2326  https://www.reuters.com/article/us-usa-trump-d...  ...     59\n",
              "2003  https://www.activistpost.com/2017/09/saudi-ara...  ...     82\n",
              "491   http://beforeitsnews.com/u-s-politics/2017/10/...  ...     66\n",
              "1207  http://beforeitsnews.com/u-s-politics/2017/10/...  ...     54\n",
              "\n",
              "[5 rows x 5 columns]"
            ]
          },
          "metadata": {
            "tags": []
          },
          "execution_count": 3
        }
      ]
    },
    {
      "cell_type": "code",
      "metadata": {
        "id": "IETbtCNhPjB2",
        "colab_type": "code",
        "colab": {
          "base_uri": "https://localhost:8080/",
          "height": 185
        },
        "outputId": "38ea221e-9116-47d1-e971-b1c857db61e0"
      },
      "source": [
        "detail = data['Length'].describe()\n",
        "print(detail)"
      ],
      "execution_count": 4,
      "outputs": [
        {
          "output_type": "stream",
          "text": [
            "count    4009.000000\n",
            "mean       60.104016\n",
            "std        22.660900\n",
            "min         6.000000\n",
            "25%        48.000000\n",
            "50%        60.000000\n",
            "75%        69.000000\n",
            "max       653.000000\n",
            "Name: Length, dtype: float64\n"
          ],
          "name": "stdout"
        }
      ]
    },
    {
      "cell_type": "code",
      "metadata": {
        "id": "2qZMLHZ5PjB-",
        "colab_type": "code",
        "colab": {
          "base_uri": "https://localhost:8080/",
          "height": 111
        },
        "outputId": "ea3edf04-8d50-43ac-fb88-51659f04f11e"
      },
      "source": [
        "# Get all true news\n",
        "fliter = data['Label'] == 1\n",
        "pos = data[fliter]\n",
        "print('Positive：', len(pos))\n",
        "\n",
        "# Get all fake news\n",
        "fliter = data['Label'] == 0\n",
        "neg = data[fliter]\n",
        "print('Negative：', len(neg))\n",
        "\n",
        "the_mean = min(len(pos), len(neg))\n",
        "print(\"==============================================\")\n",
        "\n",
        "#Random Shuffle\n",
        "p_data = pos.sample(n = the_mean)\n",
        "print('Mean0：', len(p_data))\n",
        "\n",
        "#Random Shuffle\n",
        "n_data = neg.sample(n = the_mean)\n",
        "print('Mean1：', len(n_data))"
      ],
      "execution_count": 5,
      "outputs": [
        {
          "output_type": "stream",
          "text": [
            "Positive： 1872\n",
            "Negative： 2137\n",
            "==============================================\n",
            "Mean0： 1872\n",
            "Mean1： 1872\n"
          ],
          "name": "stdout"
        }
      ]
    },
    {
      "cell_type": "code",
      "metadata": {
        "id": "eg7gKP9MPjCF",
        "colab_type": "code",
        "colab": {
          "base_uri": "https://localhost:8080/",
          "height": 92
        },
        "outputId": "a22eddcc-d8c7-4e12-e6f1-441e3fa4af75"
      },
      "source": [
        "test_split = 0.2\n",
        "train_split = 1 - test_split\n",
        "\n",
        "# (20% for Testing Data, others 80% for Training Data)\n",
        "p_train_data = p_data.sample(frac = train_split)\n",
        "p_test_data = p_data.drop(p_train_data.index)\n",
        "\n",
        "n_train_data = n_data.sample(frac = train_split)\n",
        "n_test_data = n_data.drop(n_train_data.index)\n",
        "\n",
        "\n",
        "#Combined fake news and true news\n",
        "train_data = pd.concat([p_train_data, n_train_data])\n",
        "test_data = pd.concat([p_test_data, n_test_data])\n",
        "\n",
        "#Random Shuffle\n",
        "train_data = train_data.sample(frac = 1)\n",
        "test_data = test_data.sample(frac = 1)\n",
        "\n",
        "x_train_data = train_data['Headline'].fillna('')\n",
        "y_train_data = train_data['Label']\n",
        "x_test_data = test_data['Headline'].fillna('')\n",
        "y_test_data = test_data['Label']\n",
        "\n",
        "print('Train Data x Feature：', len(x_train_data))\n",
        "print('Train Data y Label：', len(y_train_data))\n",
        "print('Test Data x Feature：', len(x_test_data))\n",
        "print('Test Data y Label：', len(y_test_data))"
      ],
      "execution_count": 6,
      "outputs": [
        {
          "output_type": "stream",
          "text": [
            "Train Data x Feature： 2996\n",
            "Train Data y Label： 2996\n",
            "Test Data x Feature： 748\n",
            "Test Data y Label： 748\n"
          ],
          "name": "stdout"
        }
      ]
    },
    {
      "cell_type": "code",
      "metadata": {
        "id": "i1uLW7u8PjCP",
        "colab_type": "code",
        "colab": {
          "base_uri": "https://localhost:8080/",
          "height": 318
        },
        "outputId": "9e3d286f-5610-4eb6-e4d3-cf4b09aa24fe"
      },
      "source": [
        "%tensorflow_version 1.x\n",
        "import tensorflow as tf\n",
        "from keras.preprocessing import sequence\n",
        "from keras.preprocessing.text import Tokenizer"
      ],
      "execution_count": 7,
      "outputs": [
        {
          "output_type": "stream",
          "text": [
            "/usr/local/lib/python3.6/dist-packages/tensorflow/python/framework/dtypes.py:469: FutureWarning: Passing (type, 1) or '1type' as a synonym of type is deprecated; in a future version of numpy, it will be understood as (type, (1,)) / '(1,)type'.\n",
            "  _np_qint8 = np.dtype([(\"qint8\", np.int8, 1)])\n",
            "/usr/local/lib/python3.6/dist-packages/tensorflow/python/framework/dtypes.py:470: FutureWarning: Passing (type, 1) or '1type' as a synonym of type is deprecated; in a future version of numpy, it will be understood as (type, (1,)) / '(1,)type'.\n",
            "  _np_quint8 = np.dtype([(\"quint8\", np.uint8, 1)])\n",
            "/usr/local/lib/python3.6/dist-packages/tensorflow/python/framework/dtypes.py:471: FutureWarning: Passing (type, 1) or '1type' as a synonym of type is deprecated; in a future version of numpy, it will be understood as (type, (1,)) / '(1,)type'.\n",
            "  _np_qint16 = np.dtype([(\"qint16\", np.int16, 1)])\n",
            "/usr/local/lib/python3.6/dist-packages/tensorflow/python/framework/dtypes.py:472: FutureWarning: Passing (type, 1) or '1type' as a synonym of type is deprecated; in a future version of numpy, it will be understood as (type, (1,)) / '(1,)type'.\n",
            "  _np_quint16 = np.dtype([(\"quint16\", np.uint16, 1)])\n",
            "/usr/local/lib/python3.6/dist-packages/tensorflow/python/framework/dtypes.py:473: FutureWarning: Passing (type, 1) or '1type' as a synonym of type is deprecated; in a future version of numpy, it will be understood as (type, (1,)) / '(1,)type'.\n",
            "  _np_qint32 = np.dtype([(\"qint32\", np.int32, 1)])\n",
            "/usr/local/lib/python3.6/dist-packages/tensorflow/python/framework/dtypes.py:476: FutureWarning: Passing (type, 1) or '1type' as a synonym of type is deprecated; in a future version of numpy, it will be understood as (type, (1,)) / '(1,)type'.\n",
            "  np_resource = np.dtype([(\"resource\", np.ubyte, 1)])\n",
            "/usr/lib/python3.6/importlib/_bootstrap.py:219: RuntimeWarning: compiletime version 3.5 of module 'tensorflow.python.framework.fast_tensor_util' does not match runtime version 3.6\n",
            "  return f(*args, **kwds)\n",
            "Using TensorFlow backend.\n"
          ],
          "name": "stderr"
        }
      ]
    },
    {
      "cell_type": "code",
      "metadata": {
        "id": "O6PNcIdnPjCU",
        "colab_type": "code",
        "colab": {}
      },
      "source": [
        "#Create a token dictionary\n",
        "token_num = 4000 \n",
        "\n",
        "#Get a fix length, we chose the mean of the Headline length\n",
        "data_length = int(detail['mean'])  \n",
        "\n",
        "#Word Embeding output vector dimension\n",
        "output_length = 32 \n",
        "\n",
        "dropout = 0.2\n",
        "lstm_dim = 256"
      ],
      "execution_count": 0,
      "outputs": []
    },
    {
      "cell_type": "code",
      "metadata": {
        "id": "wdgQ_qkZPjCb",
        "colab_type": "code",
        "colab": {}
      },
      "source": [
        "token = Tokenizer(num_words = token_num, filters = '!\"#$%&()*+,-./:;<=>?@[\\\\]^_`{|}~\\t\\n')\n",
        "token.fit_on_texts(x_train_data)"
      ],
      "execution_count": 0,
      "outputs": []
    },
    {
      "cell_type": "code",
      "metadata": {
        "id": "2wR4JC-YPjCh",
        "colab_type": "code",
        "colab": {}
      },
      "source": [
        "x_train_seq = token.texts_to_sequences(x_train_data)\n",
        "x_test_seq = token.texts_to_sequences(x_test_data)"
      ],
      "execution_count": 0,
      "outputs": []
    },
    {
      "cell_type": "code",
      "metadata": {
        "id": "ypd5MDjPPjCo",
        "colab_type": "code",
        "colab": {}
      },
      "source": [
        "x_train = sequence.pad_sequences(x_train_seq, maxlen = data_length)\n",
        "x_test = sequence.pad_sequences(x_test_seq, maxlen = data_length)"
      ],
      "execution_count": 0,
      "outputs": []
    },
    {
      "cell_type": "code",
      "metadata": {
        "id": "ZoH7-qUBPjCv",
        "colab_type": "code",
        "colab": {}
      },
      "source": [
        "from keras.models import Sequential\n",
        "from keras.layers.core import Dense, Dropout, Activation\n",
        "from keras.layers.embeddings import Embedding\n",
        "from keras.layers.recurrent import LSTM\n",
        "from keras.layers import Bidirectional, TimeDistributed\n",
        "from keras.callbacks import EarlyStopping\n"
      ],
      "execution_count": 0,
      "outputs": []
    },
    {
      "cell_type": "code",
      "metadata": {
        "id": "kGrBODmsWGMr",
        "colab_type": "code",
        "colab": {}
      },
      "source": [
        "from tensorflow.python.ops import control_flow_ops\n",
        "\n",
        "orig_while_loop = control_flow_ops.while_loop\n",
        "\n",
        "def patched_while_loop(*args, **kwargs):\n",
        "    kwargs.pop(\"maximum_iterations\", None)  # Ignore.\n",
        "    return orig_while_loop(*args, **kwargs)\n",
        "\n",
        "\n",
        "control_flow_ops.while_loop = patched_while_loop"
      ],
      "execution_count": 0,
      "outputs": []
    },
    {
      "cell_type": "code",
      "metadata": {
        "id": "eV2DxMbxPjC1",
        "colab_type": "code",
        "colab": {
          "base_uri": "https://localhost:8080/",
          "height": 447
        },
        "outputId": "64da3e10-57ee-40d2-d736-cb73a6c753a8"
      },
      "source": [
        "model = Sequential()\n",
        "model.add(Embedding(output_dim = output_length, \n",
        "                    input_dim = token_num, \n",
        "                    input_length = data_length))\n",
        "model.add(Dropout(dropout))\n",
        "\n",
        "# using BLSTM (this will be better than LSTM, Avg acc is around 0.85\n",
        "model.add(Bidirectional(LSTM(lstm_dim), merge_mode = 'sum'))\n",
        "model.add(Dropout(dropout))\n",
        "\n",
        "# using LSTM, Avg acc is around 0.84\n",
        "# model.add(LSTM(lstm_dim))\n",
        "# model.add(Dropout(dropout))\n",
        "\n",
        "model.add(Dense(units = 256, activation = 'relu'))\n",
        "model.add(Dropout(dropout))\n",
        "\n",
        "model.add(Dense(units = 1, activation = 'sigmoid'))\n",
        "print(model.summary())"
      ],
      "execution_count": 19,
      "outputs": [
        {
          "output_type": "stream",
          "text": [
            "Model: \"sequential_4\"\n",
            "_________________________________________________________________\n",
            "Layer (type)                 Output Shape              Param #   \n",
            "=================================================================\n",
            "embedding_4 (Embedding)      (None, 60, 32)            128000    \n",
            "_________________________________________________________________\n",
            "dropout_4 (Dropout)          (None, 60, 32)            0         \n",
            "_________________________________________________________________\n",
            "bidirectional_4 (Bidirection (None, 256)               591872    \n",
            "_________________________________________________________________\n",
            "dropout_5 (Dropout)          (None, 256)               0         \n",
            "_________________________________________________________________\n",
            "dense_1 (Dense)              (None, 256)               65792     \n",
            "_________________________________________________________________\n",
            "dropout_6 (Dropout)          (None, 256)               0         \n",
            "_________________________________________________________________\n",
            "dense_2 (Dense)              (None, 1)                 257       \n",
            "=================================================================\n",
            "Total params: 785,921\n",
            "Trainable params: 785,921\n",
            "Non-trainable params: 0\n",
            "_________________________________________________________________\n",
            "None\n"
          ],
          "name": "stdout"
        }
      ]
    },
    {
      "cell_type": "code",
      "metadata": {
        "id": "ZM8LXGFuPjC7",
        "colab_type": "code",
        "colab": {}
      },
      "source": [
        "model.compile(loss = 'binary_crossentropy', optimizer = 'adam', metrics = ['accuracy'])"
      ],
      "execution_count": 0,
      "outputs": []
    },
    {
      "cell_type": "code",
      "metadata": {
        "id": "Kbwpd9qNPjDB",
        "colab_type": "code",
        "colab": {}
      },
      "source": [
        "es = EarlyStopping(monitor = 'val_loss', patience = 5, verbose = 2)"
      ],
      "execution_count": 0,
      "outputs": []
    },
    {
      "cell_type": "code",
      "metadata": {
        "id": "C5DFUXu3PjDF",
        "colab_type": "code",
        "colab": {
          "base_uri": "https://localhost:8080/",
          "height": 428
        },
        "outputId": "ff58ab21-735e-426c-f222-86d3e17965bf"
      },
      "source": [
        "train_history = model.fit(x = x_train,\n",
        "                         y = y_train_data,\n",
        "                         validation_split = 0.2,\n",
        "                         epochs = 20,\n",
        "                         batch_size = 100,\n",
        "                         verbose = 1,\n",
        "                         callbacks = [es])"
      ],
      "execution_count": 22,
      "outputs": [
        {
          "output_type": "stream",
          "text": [
            "Train on 2396 samples, validate on 600 samples\n",
            "Epoch 1/20\n",
            "2396/2396 [==============================] - 43s 18ms/step - loss: 0.6908 - acc: 0.5221 - val_loss: 0.6668 - val_acc: 0.6800\n",
            "Epoch 2/20\n",
            "2396/2396 [==============================] - 42s 18ms/step - loss: 0.7174 - acc: 0.5876 - val_loss: 0.6465 - val_acc: 0.6833\n",
            "Epoch 3/20\n",
            "2396/2396 [==============================] - 42s 18ms/step - loss: 0.5353 - acc: 0.8351 - val_loss: 0.4622 - val_acc: 0.7983\n",
            "Epoch 4/20\n",
            "2396/2396 [==============================] - 42s 18ms/step - loss: 0.2570 - acc: 0.8961 - val_loss: 0.3813 - val_acc: 0.8200\n",
            "Epoch 5/20\n",
            "2396/2396 [==============================] - 42s 18ms/step - loss: 0.1517 - acc: 0.9445 - val_loss: 0.3758 - val_acc: 0.8617\n",
            "Epoch 6/20\n",
            "2396/2396 [==============================] - 42s 18ms/step - loss: 0.0793 - acc: 0.9704 - val_loss: 0.4048 - val_acc: 0.8550\n",
            "Epoch 7/20\n",
            "2396/2396 [==============================] - 42s 17ms/step - loss: 0.0459 - acc: 0.9846 - val_loss: 0.5015 - val_acc: 0.8450\n",
            "Epoch 8/20\n",
            "2396/2396 [==============================] - 42s 17ms/step - loss: 0.0255 - acc: 0.9912 - val_loss: 0.5554 - val_acc: 0.8550\n",
            "Epoch 9/20\n",
            "2396/2396 [==============================] - 42s 18ms/step - loss: 0.0196 - acc: 0.9925 - val_loss: 0.6101 - val_acc: 0.8500\n",
            "Epoch 10/20\n",
            "2396/2396 [==============================] - 42s 18ms/step - loss: 0.0119 - acc: 0.9971 - val_loss: 0.6649 - val_acc: 0.8450\n",
            "Epoch 00010: early stopping\n"
          ],
          "name": "stdout"
        }
      ]
    },
    {
      "cell_type": "code",
      "metadata": {
        "id": "IJiv754HPjDK",
        "colab_type": "code",
        "colab": {}
      },
      "source": [
        "%matplotlib inline\n",
        "def show_train_history(train_history, train, validation):\n",
        "    plt.plot(train_history.history[train])\n",
        "    plt.plot(train_history.history[validation])\n",
        "    plt.title('Train History')\n",
        "    plt.ylabel(train)\n",
        "    plt.xlabel('Epoch')\n",
        "    plt.legend(['train', 'validation'], loc = 'upper left')\n",
        "    plt.show()"
      ],
      "execution_count": 0,
      "outputs": []
    },
    {
      "cell_type": "code",
      "metadata": {
        "id": "qbV7niL_PjDO",
        "colab_type": "code",
        "colab": {
          "base_uri": "https://localhost:8080/",
          "height": 573
        },
        "outputId": "26d73cae-d8fe-4407-962e-63ef513ea5db"
      },
      "source": [
        "show_train_history(train_history, 'acc', 'val_acc')\n",
        "show_train_history(train_history, 'loss', 'val_loss')"
      ],
      "execution_count": 24,
      "outputs": [
        {
          "output_type": "display_data",
          "data": {
            "image/png": "[encoded data removed]",
            "text/plain": [
              "<Figure size 432x288 with 1 Axes>"
            ]
          },
          "metadata": {
            "tags": []
          }
        },
        {
          "output_type": "display_data",
          "data": {
            "image/png": "[encoded data removed]",
            "text/plain": [
              "<Figure size 432x288 with 1 Axes>"
            ]
          },
          "metadata": {
            "tags": []
          }
        }
      ]
    },
    {
      "cell_type": "code",
      "metadata": {
        "id": "mjJFsxVKPjDT",
        "colab_type": "code",
        "colab": {
          "base_uri": "https://localhost:8080/",
          "height": 54
        },
        "outputId": "6fa6e570-f347-42d5-e588-ffb9e902611f"
      },
      "source": [
        "scores = model.evaluate(x = x_test, y = y_test_data)\n",
        "scores[1]"
      ],
      "execution_count": 25,
      "outputs": [
        {
          "output_type": "stream",
          "text": [
            "748/748 [==============================] - 4s 6ms/step\n"
          ],
          "name": "stdout"
        },
        {
          "output_type": "execute_result",
          "data": {
            "text/plain": [
              "0.8582887700534759"
            ]
          },
          "metadata": {
            "tags": []
          },
          "execution_count": 25
        }
      ]
    },
    {
      "cell_type": "code",
      "metadata": {
        "id": "Kb5MdOzRPjDY",
        "colab_type": "code",
        "colab": {}
      },
      "source": [
        ""
      ],
      "execution_count": 0,
      "outputs": []
    }
  ]
}